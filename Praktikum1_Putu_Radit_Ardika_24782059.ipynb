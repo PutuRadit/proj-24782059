{
  "nbformat": 4,
  "nbformat_minor": 0,
  "metadata": {
    "colab": {
      "provenance": [],
      "mount_file_id": "1SkDg9bWCsgzzm0ArNBHO_4jC7X9tVShD",
      "authorship_tag": "ABX9TyPAKoqXuE8Qt9wwduaXKcG7",
      "include_colab_link": true
    },
    "kernelspec": {
      "name": "python3",
      "display_name": "Python 3"
    },
    "language_info": {
      "name": "python"
    }
  },
  "cells": [
    {
      "cell_type": "markdown",
      "metadata": {
        "id": "view-in-github",
        "colab_type": "text"
      },
      "source": [
        "<a href=\"https://colab.research.google.com/github/PutuRadit/proj-24782059/blob/main/Praktikum1_Putu_Radit_Ardika_24782059.ipynb\" target=\"_parent\"><img src=\"https://colab.research.google.com/assets/colab-badge.svg\" alt=\"Open In Colab\"/></a>"
      ]
    },
    {
      "cell_type": "markdown",
      "source": [
        "# Praktikum 1 Analisis Data\n",
        "## Konsep Dasar Analisis Data, Python & Google Colab  \n",
        "\n",
        "**Nama:** Putu Radit Ardika  \n",
        "**NPM:** 24782059  \n",
        "**Prodi:** Teknologi Rekayasa Internet\n"
      ],
      "metadata": {
        "id": "bnK-hrIo729J"
      }
    },
    {
      "cell_type": "markdown",
      "source": [
        "Step 2 Menjalankan Kode Python"
      ],
      "metadata": {
        "id": "fa8BaU1v7gEh"
      }
    },
    {
      "cell_type": "code",
      "source": [
        "print(\"Hello, Google Colab!\")\n",
        "\n",
        "nama = \"Putu Radit Ardika\"\n",
        "npm = \"24782059\"\n",
        "prodi = \"Teknologi Rekayasa Internet\"\n",
        "\n",
        "print(\"Nama:\", nama)\n",
        "print(\"NPM:\", npm)\n",
        "print(\"Program Studi:\", prodi)\n"
      ],
      "metadata": {
        "colab": {
          "base_uri": "https://localhost:8080/"
        },
        "id": "uAk10Rvg66VU",
        "outputId": "1c15553e-789f-443b-f441-45294334f81d"
      },
      "execution_count": 3,
      "outputs": [
        {
          "output_type": "stream",
          "name": "stdout",
          "text": [
            "Hello, Google Colab!\n",
            "Nama: Putu Radit Ardika\n",
            "NPM: 24782059\n",
            "Program Studi: Teknologi Rekayasa Internet\n"
          ]
        }
      ]
    },
    {
      "cell_type": "markdown",
      "source": [
        "### Penjelasan Step 2\n",
        "- `print(\"Hello, Google Colab!\")` → menampilkan teks “Hello, Google Colab!” ke layar sebagai output awal.  \n",
        "- `nama = \"Putu Radit Ardika\"` → membuat variabel `nama` yang menyimpan teks (string) berisi nama mahasiswa.  \n",
        "- `npm = \"24782059\"` → membuat variabel `npm` yang menyimpan teks berupa nomor pokok mahasiswa.  \n",
        "- `prodi = \"Teknologi Rekayasa Internet\"` → membuat variabel `prodi` yang menyimpan teks nama program studi.  \n",
        "- `print(\"Nama:\", nama)` → menampilkan teks “Nama:” diikuti isi variabel `nama`.  \n",
        "- `print(\"NPM:\", npm)` → menampilkan teks “NPM:” diikuti isi variabel `npm`.  \n",
        "- `print(\"Program Studi:\", prodi)` → menampilkan teks “Program Studi:” diikuti isi variabel `prodi`.  \n"
      ],
      "metadata": {
        "id": "_tK3Ko-cAauy"
      }
    },
    {
      "cell_type": "markdown",
      "source": [
        "## Step 3: Upload Dataset\n",
        "\n",
        "Pada tahap ini dilakukan upload dataset ke Google Colab menggunakan library `google.colab`.  \n",
        "File yang digunakan dalam praktikum ini terdiri dari beberapa format:  \n",
        "\n",
        "- `data_nilai_30.csv` (Comma Separated Values)  \n",
        "- `data_nilai_30.txt` (tab-delimited text file)  \n",
        "- `data_nilai_30.json` (JSON Lines file)"
      ],
      "metadata": {
        "id": "NJ8TUUWI9q4x"
      }
    },
    {
      "cell_type": "code",
      "source": [
        "from google.colab import files\n",
        "uploaded = files.upload()\n"
      ],
      "metadata": {
        "colab": {
          "base_uri": "https://localhost:8080/",
          "height": 142
        },
        "id": "IetqrKH0-2nf",
        "outputId": "3ec4cff9-851c-4e94-a17e-b9358dc566ce"
      },
      "execution_count": 5,
      "outputs": [
        {
          "output_type": "display_data",
          "data": {
            "text/plain": [
              "<IPython.core.display.HTML object>"
            ],
            "text/html": [
              "\n",
              "     <input type=\"file\" id=\"files-41b8e387-6540-43ab-9877-efbf02bdce68\" name=\"files[]\" multiple disabled\n",
              "        style=\"border:none\" />\n",
              "     <output id=\"result-41b8e387-6540-43ab-9877-efbf02bdce68\">\n",
              "      Upload widget is only available when the cell has been executed in the\n",
              "      current browser session. Please rerun this cell to enable.\n",
              "      </output>\n",
              "      <script>// Copyright 2017 Google LLC\n",
              "//\n",
              "// Licensed under the Apache License, Version 2.0 (the \"License\");\n",
              "// you may not use this file except in compliance with the License.\n",
              "// You may obtain a copy of the License at\n",
              "//\n",
              "//      http://www.apache.org/licenses/LICENSE-2.0\n",
              "//\n",
              "// Unless required by applicable law or agreed to in writing, software\n",
              "// distributed under the License is distributed on an \"AS IS\" BASIS,\n",
              "// WITHOUT WARRANTIES OR CONDITIONS OF ANY KIND, either express or implied.\n",
              "// See the License for the specific language governing permissions and\n",
              "// limitations under the License.\n",
              "\n",
              "/**\n",
              " * @fileoverview Helpers for google.colab Python module.\n",
              " */\n",
              "(function(scope) {\n",
              "function span(text, styleAttributes = {}) {\n",
              "  const element = document.createElement('span');\n",
              "  element.textContent = text;\n",
              "  for (const key of Object.keys(styleAttributes)) {\n",
              "    element.style[key] = styleAttributes[key];\n",
              "  }\n",
              "  return element;\n",
              "}\n",
              "\n",
              "// Max number of bytes which will be uploaded at a time.\n",
              "const MAX_PAYLOAD_SIZE = 100 * 1024;\n",
              "\n",
              "function _uploadFiles(inputId, outputId) {\n",
              "  const steps = uploadFilesStep(inputId, outputId);\n",
              "  const outputElement = document.getElementById(outputId);\n",
              "  // Cache steps on the outputElement to make it available for the next call\n",
              "  // to uploadFilesContinue from Python.\n",
              "  outputElement.steps = steps;\n",
              "\n",
              "  return _uploadFilesContinue(outputId);\n",
              "}\n",
              "\n",
              "// This is roughly an async generator (not supported in the browser yet),\n",
              "// where there are multiple asynchronous steps and the Python side is going\n",
              "// to poll for completion of each step.\n",
              "// This uses a Promise to block the python side on completion of each step,\n",
              "// then passes the result of the previous step as the input to the next step.\n",
              "function _uploadFilesContinue(outputId) {\n",
              "  const outputElement = document.getElementById(outputId);\n",
              "  const steps = outputElement.steps;\n",
              "\n",
              "  const next = steps.next(outputElement.lastPromiseValue);\n",
              "  return Promise.resolve(next.value.promise).then((value) => {\n",
              "    // Cache the last promise value to make it available to the next\n",
              "    // step of the generator.\n",
              "    outputElement.lastPromiseValue = value;\n",
              "    return next.value.response;\n",
              "  });\n",
              "}\n",
              "\n",
              "/**\n",
              " * Generator function which is called between each async step of the upload\n",
              " * process.\n",
              " * @param {string} inputId Element ID of the input file picker element.\n",
              " * @param {string} outputId Element ID of the output display.\n",
              " * @return {!Iterable<!Object>} Iterable of next steps.\n",
              " */\n",
              "function* uploadFilesStep(inputId, outputId) {\n",
              "  const inputElement = document.getElementById(inputId);\n",
              "  inputElement.disabled = false;\n",
              "\n",
              "  const outputElement = document.getElementById(outputId);\n",
              "  outputElement.innerHTML = '';\n",
              "\n",
              "  const pickedPromise = new Promise((resolve) => {\n",
              "    inputElement.addEventListener('change', (e) => {\n",
              "      resolve(e.target.files);\n",
              "    });\n",
              "  });\n",
              "\n",
              "  const cancel = document.createElement('button');\n",
              "  inputElement.parentElement.appendChild(cancel);\n",
              "  cancel.textContent = 'Cancel upload';\n",
              "  const cancelPromise = new Promise((resolve) => {\n",
              "    cancel.onclick = () => {\n",
              "      resolve(null);\n",
              "    };\n",
              "  });\n",
              "\n",
              "  // Wait for the user to pick the files.\n",
              "  const files = yield {\n",
              "    promise: Promise.race([pickedPromise, cancelPromise]),\n",
              "    response: {\n",
              "      action: 'starting',\n",
              "    }\n",
              "  };\n",
              "\n",
              "  cancel.remove();\n",
              "\n",
              "  // Disable the input element since further picks are not allowed.\n",
              "  inputElement.disabled = true;\n",
              "\n",
              "  if (!files) {\n",
              "    return {\n",
              "      response: {\n",
              "        action: 'complete',\n",
              "      }\n",
              "    };\n",
              "  }\n",
              "\n",
              "  for (const file of files) {\n",
              "    const li = document.createElement('li');\n",
              "    li.append(span(file.name, {fontWeight: 'bold'}));\n",
              "    li.append(span(\n",
              "        `(${file.type || 'n/a'}) - ${file.size} bytes, ` +\n",
              "        `last modified: ${\n",
              "            file.lastModifiedDate ? file.lastModifiedDate.toLocaleDateString() :\n",
              "                                    'n/a'} - `));\n",
              "    const percent = span('0% done');\n",
              "    li.appendChild(percent);\n",
              "\n",
              "    outputElement.appendChild(li);\n",
              "\n",
              "    const fileDataPromise = new Promise((resolve) => {\n",
              "      const reader = new FileReader();\n",
              "      reader.onload = (e) => {\n",
              "        resolve(e.target.result);\n",
              "      };\n",
              "      reader.readAsArrayBuffer(file);\n",
              "    });\n",
              "    // Wait for the data to be ready.\n",
              "    let fileData = yield {\n",
              "      promise: fileDataPromise,\n",
              "      response: {\n",
              "        action: 'continue',\n",
              "      }\n",
              "    };\n",
              "\n",
              "    // Use a chunked sending to avoid message size limits. See b/62115660.\n",
              "    let position = 0;\n",
              "    do {\n",
              "      const length = Math.min(fileData.byteLength - position, MAX_PAYLOAD_SIZE);\n",
              "      const chunk = new Uint8Array(fileData, position, length);\n",
              "      position += length;\n",
              "\n",
              "      const base64 = btoa(String.fromCharCode.apply(null, chunk));\n",
              "      yield {\n",
              "        response: {\n",
              "          action: 'append',\n",
              "          file: file.name,\n",
              "          data: base64,\n",
              "        },\n",
              "      };\n",
              "\n",
              "      let percentDone = fileData.byteLength === 0 ?\n",
              "          100 :\n",
              "          Math.round((position / fileData.byteLength) * 100);\n",
              "      percent.textContent = `${percentDone}% done`;\n",
              "\n",
              "    } while (position < fileData.byteLength);\n",
              "  }\n",
              "\n",
              "  // All done.\n",
              "  yield {\n",
              "    response: {\n",
              "      action: 'complete',\n",
              "    }\n",
              "  };\n",
              "}\n",
              "\n",
              "scope.google = scope.google || {};\n",
              "scope.google.colab = scope.google.colab || {};\n",
              "scope.google.colab._files = {\n",
              "  _uploadFiles,\n",
              "  _uploadFilesContinue,\n",
              "};\n",
              "})(self);\n",
              "</script> "
            ]
          },
          "metadata": {}
        },
        {
          "output_type": "stream",
          "name": "stdout",
          "text": [
            "Saving data_nilai_30.txt to data_nilai_30.txt\n",
            "Saving data_nilai_30.json to data_nilai_30.json\n",
            "Saving data_nilai_30.csv to data_nilai_30 (1).csv\n"
          ]
        }
      ]
    },
    {
      "cell_type": "markdown",
      "source": [
        "### Penjelasan Step 3\n",
        "- `from google.colab import files` → mengimpor modul `files` dari library `google.colab` agar bisa melakukan upload file dari komputer ke Google Colab.  \n",
        "- `uploaded = files.upload()` → membuka dialog pemilihan file di Colab. Setelah file dipilih (misalnya CSV, TXT, atau JSON), file tersebut akan di-upload dan disimpan sementara di storage Google Colab, kemudian siap digunakan pada tahap analisis berikutnya.  \n"
      ],
      "metadata": {
        "id": "WBwUN1b6Ap5c"
      }
    },
    {
      "cell_type": "markdown",
      "source": [
        "## Step 4: Membaca Data dengan Pandas\n",
        "\n",
        "Pada tahap ini dataset yang sudah di-upload dibaca menggunakan library **pandas**.  \n",
        "Hasil pembacaan ditampilkan menggunakan fungsi `.head()` (5 baris pertama)  \n",
        "dan `.describe()` untuk ringkasan statistik."
      ],
      "metadata": {
        "id": "aR6sLJys-BfN"
      }
    },
    {
      "cell_type": "code",
      "source": [
        "import pandas as pd\n",
        "\n",
        "# 1. Membaca CSV\n",
        "df_csv = pd.read_csv(\"data_nilai_30.csv\")\n",
        "print(\"=== Data dari CSV ===\")\n",
        "print(df_csv.head())      # Tampilkan 5 baris pertama\n",
        "print(df_csv.describe())  # Ringkasan statistik\n",
        "\n",
        "# 2. Membaca TXT (tab-delimited)\n",
        "df_txt = pd.read_csv(\"data_nilai_30.txt\", sep=\"\\t\")\n",
        "print(\"\\n=== Data dari TXT ===\")\n",
        "print(df_txt.head())\n",
        "\n",
        "# 3. Membaca JSON\n",
        "df_json = pd.read_json(\"data_nilai_30.json\", lines=True)\n",
        "print(\"\\n=== Data dari JSON ===\")\n",
        "print(df_json.head())\n"
      ],
      "metadata": {
        "colab": {
          "base_uri": "https://localhost:8080/"
        },
        "id": "tiWGYfNG-ECI",
        "outputId": "7071f99b-dfcb-4285-88ac-83e9196eddd3"
      },
      "execution_count": 6,
      "outputs": [
        {
          "output_type": "stream",
          "name": "stdout",
          "text": [
            "=== Data dari CSV ===\n",
            "         Nama  Nilai\n",
            "0  Mahasiswa1     86\n",
            "1  Mahasiswa2     98\n",
            "2  Mahasiswa3     88\n",
            "3  Mahasiswa4     62\n",
            "4  Mahasiswa5     94\n",
            "            Nilai\n",
            "count   30.000000\n",
            "mean    83.200000\n",
            "std     13.591072\n",
            "min     60.000000\n",
            "25%     72.500000\n",
            "50%     87.000000\n",
            "75%     95.000000\n",
            "max    100.000000\n",
            "\n",
            "=== Data dari TXT ===\n",
            "         Nama  Nilai\n",
            "0  Mahasiswa1     86\n",
            "1  Mahasiswa2     98\n",
            "2  Mahasiswa3     88\n",
            "3  Mahasiswa4     62\n",
            "4  Mahasiswa5     94\n",
            "\n",
            "=== Data dari JSON ===\n",
            "         Nama  Nilai\n",
            "0  Mahasiswa1     86\n",
            "1  Mahasiswa2     98\n",
            "2  Mahasiswa3     88\n",
            "3  Mahasiswa4     62\n",
            "4  Mahasiswa5     94\n"
          ]
        }
      ]
    },
    {
      "cell_type": "markdown",
      "source": [
        "Penjelasan Step 4:\n",
        "- `pd.read_csv(\"data_nilai_30.csv\")` membaca file CSV ke dalam DataFrame pandas.  \n",
        "- `.head()` menampilkan 5 baris pertama data untuk memastikan file terbaca.  \n",
        "- `.describe()` memberikan ringkasan statistik kolom numerik, seperti jumlah data, mean, standar deviasi, nilai minimum, kuartil, dan maksimum.  \n",
        "- `sep=\"\\t\"` digunakan untuk membaca file TXT karena datanya dipisahkan dengan tab.  \n",
        "- `pd.read_json(..., lines=True)` digunakan untuk membaca file JSON yang tersusun dalam format JSON Lines.  \n"
      ],
      "metadata": {
        "id": "EZpNhZoeA0jG"
      }
    },
    {
      "cell_type": "markdown",
      "source": [
        "## Step 5: Analisis Sederhana\n",
        "\n",
        "Pada tahap ini dilakukan analisis sederhana terhadap dataset dari tiga format file: CSV, TXT, dan JSON.  \n",
        "Analisis yang dilakukan meliputi:  \n",
        "1. Jumlah baris dan kolom data  \n",
        "2. Rata-rata nilai mahasiswa  \n",
        "3. Nilai maksimum dan minimum  \n",
        "4. Jumlah mahasiswa yang lulus (nilai ≥ 75)  \n"
      ],
      "metadata": {
        "id": "-0QOusPnBABd"
      }
    },
    {
      "cell_type": "code",
      "source": [
        "def analisis_data(df, nama_file):\n",
        "    print(f\"\\n=== Analisis Data dari {nama_file} ===\")\n",
        "    print(\"Jumlah baris & kolom:\", df.shape)\n",
        "    print(\"Rata-rata nilai:\", df[\"Nilai\"].mean())\n",
        "    print(\"Nilai maksimum:\", df[\"Nilai\"].max())\n",
        "    print(\"Nilai minimum:\", df[\"Nilai\"].min())\n",
        "    print(\"Jumlah mahasiswa lulus:\", (df[\"Nilai\"] >= 75).sum())\n",
        "\n",
        "# Analisis data dari CSV\n",
        "analisis_data(df_csv, \"CSV\")\n",
        "\n",
        "# Analisis data dari TXT\n",
        "analisis_data(df_txt, \"TXT\")\n",
        "\n",
        "# Analisis data dari JSON\n",
        "analisis_data(df_json, \"JSON\")\n"
      ],
      "metadata": {
        "colab": {
          "base_uri": "https://localhost:8080/"
        },
        "id": "Jqr3Zr9bBCx4",
        "outputId": "f3e1309c-0181-4981-d1e2-95a51309c3ae"
      },
      "execution_count": 7,
      "outputs": [
        {
          "output_type": "stream",
          "name": "stdout",
          "text": [
            "\n",
            "=== Analisis Data dari CSV ===\n",
            "Jumlah baris & kolom: (30, 2)\n",
            "Rata-rata nilai: 83.2\n",
            "Nilai maksimum: 100\n",
            "Nilai minimum: 60\n",
            "Jumlah mahasiswa lulus: 20\n",
            "\n",
            "=== Analisis Data dari TXT ===\n",
            "Jumlah baris & kolom: (30, 2)\n",
            "Rata-rata nilai: 83.2\n",
            "Nilai maksimum: 100\n",
            "Nilai minimum: 60\n",
            "Jumlah mahasiswa lulus: 20\n",
            "\n",
            "=== Analisis Data dari JSON ===\n",
            "Jumlah baris & kolom: (30, 2)\n",
            "Rata-rata nilai: 83.2\n",
            "Nilai maksimum: 100\n",
            "Nilai minimum: 60\n",
            "Jumlah mahasiswa lulus: 20\n"
          ]
        }
      ]
    },
    {
      "cell_type": "markdown",
      "source": [
        "### Penjelasan Step 5\n",
        "- Fungsi `analisis_data(df, nama_file)` dibuat untuk menampilkan hasil analisis dari dataset yang berbeda tanpa harus menulis ulang kode.  \n",
        "- `df.shape` → menampilkan jumlah baris dan kolom dataset.  \n",
        "- `df[\"Nilai\"].mean()` → menghitung rata-rata nilai mahasiswa.  \n",
        "- `df[\"Nilai\"].max()` → mencari nilai tertinggi.  \n",
        "- `df[\"Nilai\"].min()` → mencari nilai terendah.  \n",
        "- `(df[\"Nilai\"] >= 75).sum()` → menghitung jumlah mahasiswa yang lulus (nilai ≥ 75).  \n"
      ],
      "metadata": {
        "id": "k2AIL6eiBtZ3"
      }
    }
  ]
}